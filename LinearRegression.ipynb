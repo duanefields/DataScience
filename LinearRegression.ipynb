{
 "cells": [
  {
   "cell_type": "code",
   "execution_count": 1,
   "metadata": {
    "collapsed": true
   },
   "outputs": [],
   "source": [
    "import tensorflow as tf\n",
    "import numpy as np\n"
   ]
  },
  {
   "cell_type": "code",
   "execution_count": 13,
   "metadata": {},
   "outputs": [
    {
     "name": "stdout",
     "output_type": "stream",
     "text": [
      "0 [ 27.04097939] [ 24.95327759] [ 57.04963684]\n",
      "20 [ 5.49742222] [ 7.30644083] [ 50.29534531]\n",
      "40 [ 1.72995853] [ 4.44740772] [ 53.57581711]\n",
      "60 [ 0.5925014] [ 3.57858109] [ 54.56889343]\n",
      "80 [ 0.24887526] [ 3.31482005] [ 54.86950302]\n",
      "100 [ 0.14501856] [ 3.23480749] [ 54.96049881]\n",
      "120 [ 0.11361754] [ 3.2105484] [ 54.98804474]\n",
      "140 [ 0.1041186] [ 3.2031951] [ 54.99637985]\n",
      "160 [ 0.10124659] [ 3.20096779] [ 54.99890518]\n",
      "180 [ 0.10037675] [ 3.20029235] [ 54.99966812]\n"
     ]
    }
   ],
   "source": [
    "# Create 100 phony x, y data points in NumPy, y = x * 0.1 + 0.3\n",
    "# This is your \"known\" data\n",
    "x0_data = np.random.rand(100).astype(np.float32)\n",
    "x1_data = np.random.rand(100).astype(np.float32)\n",
    "\n",
    "# this is the formula, normally unknown, y is what you are predicting\n",
    "# rather than importing known data set, we're creating our own known data\n",
    "y_data = 0.1 * x0_data + 3.2 * x1_data + 55\n",
    "\n",
    "# Try to find values for W and b that compute y_data = W0 * x0_data +W1 * x1_data + b\n",
    "# (We know that W should be 0.1 and b 0.3, but Tensorflow will\n",
    "# figure that out for us.)\n",
    "W0 = tf.Variable(tf.random_uniform([1], -1.0, 1.0))\n",
    "W1 = tf.Variable(tf.random_uniform([1], -1.0, 1.0))\n",
    "b = tf.Variable(tf.zeros([1]))\n",
    "y = W0 * x0_data + W1 * x1_data + b\n",
    "\n",
    "# Minimize the mean squared errors.\n",
    "loss = tf.reduce_mean(tf.square(y - y_data))\n",
    "optimizer = tf.train.GradientDescentOptimizer(0.5)\n",
    "train = optimizer.minimize(loss)\n",
    "\n",
    "# Before starting, initialize the variables.  We will 'run' this first.\n",
    "init = tf.global_variables_initializer()\n",
    "\n",
    "# Launch the graph.\n",
    "sess = tf.Session()\n",
    "sess.run(init)\n",
    "\n",
    "# Fit the line.\n",
    "for step in range(200):\n",
    "    sess.run(train)\n",
    "    if step % 20 == 0:\n",
    "        print(step, sess.run(W0), sess.run(W1), sess.run(b))"
   ]
  },
  {
   "cell_type": "code",
   "execution_count": null,
   "metadata": {
    "collapsed": true
   },
   "outputs": [],
   "source": []
  }
 ],
 "metadata": {
  "kernelspec": {
   "display_name": "Python 3",
   "language": "python",
   "name": "python3"
  },
  "language_info": {
   "codemirror_mode": {
    "name": "ipython",
    "version": 3
   },
   "file_extension": ".py",
   "mimetype": "text/x-python",
   "name": "python",
   "nbconvert_exporter": "python",
   "pygments_lexer": "ipython3",
   "version": "3.6.1"
  }
 },
 "nbformat": 4,
 "nbformat_minor": 2
}
